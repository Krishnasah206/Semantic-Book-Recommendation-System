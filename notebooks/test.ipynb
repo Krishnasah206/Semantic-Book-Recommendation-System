{
 "cells": [
  {
   "cell_type": "code",
   "execution_count": 2,
   "id": "10c8f858",
   "metadata": {},
   "outputs": [],
   "source": [
    "import pandas as pd\n",
    "\n",
    "df = pd.read_csv(\"books_cleaned.csv\")\n",
    "df1 = pd.read_csv(\"books_with_categories.csv\")\n",
    "df2 = pd.read_csv(\"books_with_emotions.csv\")"
   ]
  },
  {
   "cell_type": "code",
   "execution_count": 4,
   "id": "0f36fb1b",
   "metadata": {},
   "outputs": [
    {
     "name": "stdout",
     "output_type": "stream",
     "text": [
      "<class 'pandas.core.frame.DataFrame'>\n",
      "RangeIndex: 5197 entries, 0 to 5196\n",
      "Data columns (total 13 columns):\n",
      " #   Column              Non-Null Count  Dtype  \n",
      "---  ------              --------------  -----  \n",
      " 0   isbn13              5197 non-null   int64  \n",
      " 1   isbn10              5197 non-null   object \n",
      " 2   title               5197 non-null   object \n",
      " 3   authors             5165 non-null   object \n",
      " 4   categories          5167 non-null   object \n",
      " 5   thumbnail           5031 non-null   object \n",
      " 6   description         5197 non-null   object \n",
      " 7   published_year      5197 non-null   float64\n",
      " 8   average_rating      5197 non-null   float64\n",
      " 9   num_pages           5197 non-null   float64\n",
      " 10  ratings_count       5197 non-null   float64\n",
      " 11  title_and_subtitle  5197 non-null   object \n",
      " 12  tagged_description  5197 non-null   object \n",
      "dtypes: float64(4), int64(1), object(8)\n",
      "memory usage: 527.9+ KB\n"
     ]
    }
   ],
   "source": [
    "df.info()\n"
   ]
  },
  {
   "cell_type": "code",
   "execution_count": 5,
   "id": "657333f2",
   "metadata": {},
   "outputs": [
    {
     "name": "stdout",
     "output_type": "stream",
     "text": [
      "<class 'pandas.core.frame.DataFrame'>\n",
      "RangeIndex: 5197 entries, 0 to 5196\n",
      "Data columns (total 14 columns):\n",
      " #   Column              Non-Null Count  Dtype  \n",
      "---  ------              --------------  -----  \n",
      " 0   isbn13              5197 non-null   int64  \n",
      " 1   isbn10              5197 non-null   object \n",
      " 2   title               5197 non-null   object \n",
      " 3   authors             5165 non-null   object \n",
      " 4   categories          5167 non-null   object \n",
      " 5   thumbnail           5031 non-null   object \n",
      " 6   description         5197 non-null   object \n",
      " 7   published_year      5197 non-null   float64\n",
      " 8   average_rating      5197 non-null   float64\n",
      " 9   num_pages           5197 non-null   float64\n",
      " 10  ratings_count       5197 non-null   float64\n",
      " 11  title_and_subtitle  5197 non-null   object \n",
      " 12  tagged_description  5197 non-null   object \n",
      " 13  simple_categories   5197 non-null   object \n",
      "dtypes: float64(4), int64(1), object(9)\n",
      "memory usage: 568.6+ KB\n"
     ]
    }
   ],
   "source": [
    "df1.info()\n"
   ]
  },
  {
   "cell_type": "code",
   "execution_count": 6,
   "id": "ab3f0503",
   "metadata": {},
   "outputs": [
    {
     "name": "stdout",
     "output_type": "stream",
     "text": [
      "<class 'pandas.core.frame.DataFrame'>\n",
      "RangeIndex: 5197 entries, 0 to 5196\n",
      "Data columns (total 20 columns):\n",
      " #   Column              Non-Null Count  Dtype  \n",
      "---  ------              --------------  -----  \n",
      " 0   isbn13              5197 non-null   int64  \n",
      " 1   isbn10              5197 non-null   object \n",
      " 2   title               5197 non-null   object \n",
      " 3   authors             5165 non-null   object \n",
      " 4   categories          5167 non-null   object \n",
      " 5   thumbnail           5031 non-null   object \n",
      " 6   description         5197 non-null   object \n",
      " 7   published_year      5197 non-null   float64\n",
      " 8   average_rating      5197 non-null   float64\n",
      " 9   num_pages           5197 non-null   float64\n",
      " 10  ratings_count       5197 non-null   float64\n",
      " 11  title_and_subtitle  5197 non-null   object \n",
      " 12  tagged_description  5197 non-null   object \n",
      " 13  anger               5197 non-null   float64\n",
      " 14  disgust             5197 non-null   float64\n",
      " 15  fear                5197 non-null   float64\n",
      " 16  sadness             5197 non-null   float64\n",
      " 17  surprise            5197 non-null   float64\n",
      " 18  joy                 5197 non-null   float64\n",
      " 19  neutral             5197 non-null   float64\n",
      "dtypes: float64(11), int64(1), object(8)\n",
      "memory usage: 812.2+ KB\n"
     ]
    }
   ],
   "source": [
    "df2.info()"
   ]
  },
  {
   "cell_type": "code",
   "execution_count": null,
   "id": "a845c696",
   "metadata": {},
   "outputs": [],
   "source": []
  }
 ],
 "metadata": {
  "kernelspec": {
   "display_name": "base",
   "language": "python",
   "name": "python3"
  },
  "language_info": {
   "codemirror_mode": {
    "name": "ipython",
    "version": 3
   },
   "file_extension": ".py",
   "mimetype": "text/x-python",
   "name": "python",
   "nbconvert_exporter": "python",
   "pygments_lexer": "ipython3",
   "version": "3.12.7"
  }
 },
 "nbformat": 4,
 "nbformat_minor": 5
}
